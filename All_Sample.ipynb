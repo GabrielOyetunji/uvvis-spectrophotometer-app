{
 "cells": [
  {
   "cell_type": "code",
   "execution_count": 3,
   "id": "ba81bc48-9a44-43ed-8667-dd16864a2d89",
   "metadata": {},
   "outputs": [
    {
     "name": "stdout",
     "output_type": "stream",
     "text": [
      "⚠️ Skipping columns 480 and 481: single positional indexer is out-of-bounds\n",
      "✅ All samples processed and saved to 'truncate data set.csv'\n"
     ]
    }
   ],
   "source": [
    "import pandas as pd\n",
    "\n",
    "# STEP 1: Load the raw data file\n",
    "# We start by importing the raw .csv file generated from the CARY 50 UV-Vis spectrophotometer.\n",
    "df = pd.read_csv(\"assay6.csv\") \n",
    "\n",
    "\n",
    "# STEP 2: Drop the header row with \"Wavelength (nm)\", \"Abs\", etc.\n",
    "# The first row contains column labels like \"Wavelength (nm)\" and \"Abs\". It's not actual data, so we remove it.\n",
    "df = df.drop(index=0).reset_index(drop=True)\n",
    "df.head()\n",
    "\n",
    "# STEP 3: Convert all data to numeric (ignore non-numeric errors)\n",
    "# We convert all values in the dataset to numeric values. Any non-numeric content (like empty strings or stray text) is automatically converted to NaN and ignored.\n",
    "df = df.apply(pd.to_numeric, errors='coerce')\n",
    " \n",
    "# STEP 4: Set the wavelength cutoff range\n",
    "# We set the minimum and maximum wavelengths we want to keep — between 400 nm and 600 nm.\n",
    "lower_bound = 400\n",
    "upper_bound = 600\n",
    "\n",
    "# STEP 5: Initialize a list to hold all cleaned sample data\n",
    "# We’ll use this to store each sample's filtered result.\n",
    "filtered_samples = []\n",
    "\n",
    "# STEP 6: Loop through each pair of columns (Wavelength + Absorbance)\n",
    "# The data is organized in pairs of columns: one column for wavelength, and the next for absorbance.\n",
    "# We loop through these pairs, one sample at a time.\n",
    "for i in range(0, df.shape[1], 2):\n",
    "    try:\n",
    "        # Extract columns\n",
    "        wavelength_col = df.iloc[:, i]\n",
    "        absorbance_col = df.iloc[:, i + 1]\n",
    "\n",
    "        # Apply filtering\n",
    "        # We filter each sample to include only the rows where wavelength is between 400 and 600 nm.\n",
    "        mask = (wavelength_col >= lower_bound) & (wavelength_col <= upper_bound)\n",
    "        filtered_wavelength = wavelength_col[mask].reset_index(drop=True)\n",
    "        filtered_absorbance = absorbance_col[mask].reset_index(drop=True)\n",
    "\n",
    "        # Combine into one sample DataFrame\n",
    "        # We then combine those filtered results into a clean format:\n",
    "        sample_df = pd.DataFrame({\n",
    "            f'Wavelength_{i//2 + 1}': filtered_wavelength,\n",
    "            f'Absorbance_{i//2 + 1}': filtered_absorbance\n",
    "        })\n",
    "\n",
    "        filtered_samples.append(sample_df)\n",
    "        \n",
    "    # If a sample is broken or incomplete, we safely skip it:\n",
    "    except Exception as e:\n",
    "        print(f\"⚠️ Skipping columns {i} and {i+1}: {e}\")\n",
    "\n",
    "# STEP 7: Combine all filtered samples into one final DataFrame\n",
    "# We put all the cleaned and filtered samples side-by-side into one final table.\n",
    "result_df = pd.concat(filtered_samples, axis=1)\n",
    "\n",
    "# STEP 8: Save to CSV\n",
    "result_df.to_csv(\"truncated data set.csv\", index=False)\n",
    "\n",
    "print(\"✅ All samples processed and saved to 'truncated data set.csv'\")\n"
   ]
  },
  {
   "cell_type": "code",
   "execution_count": null,
   "id": "171bad24-2a2f-49a3-986f-872cf11c14b4",
   "metadata": {},
   "outputs": [],
   "source": []
  }
 ],
 "metadata": {
  "kernelspec": {
   "display_name": "Python [conda env:base] *",
   "language": "python",
   "name": "conda-base-py"
  },
  "language_info": {
   "codemirror_mode": {
    "name": "ipython",
    "version": 3
   },
   "file_extension": ".py",
   "mimetype": "text/x-python",
   "name": "python",
   "nbconvert_exporter": "python",
   "pygments_lexer": "ipython3",
   "version": "3.12.7"
  }
 },
 "nbformat": 4,
 "nbformat_minor": 5
}
